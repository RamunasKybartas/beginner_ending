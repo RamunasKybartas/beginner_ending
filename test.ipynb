{
 "cells": [
  {
   "cell_type": "code",
   "execution_count": null,
   "metadata": {},
   "outputs": [],
   "source": []
  }
 ],
 "metadata": {
  "kernelspec": {
   "display_name": "Python 3.10.6 ('venv': venv)",
   "language": "python",
   "name": "python3"
  },
  "language_info": {
   "name": "python",
   "version": "3.10.6"
  },
  "orig_nbformat": 4,
  "vscode": {
   "interpreter": {
    "hash": "4e8de9d5f84d966072edc9a4b2fd858ee18ecb985249a5b031d95389f42b7302"
   }
  }
 },
 "nbformat": 4,
 "nbformat_minor": 2
}
